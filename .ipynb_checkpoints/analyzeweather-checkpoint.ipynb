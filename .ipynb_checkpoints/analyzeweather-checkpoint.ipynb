{
 "cells": [
  {
   "cell_type": "code",
   "execution_count": 1,
   "metadata": {
    "collapsed": true
   },
   "outputs": [],
   "source": [
    "import pandas as pd\n",
    "import sqlite3 as lite\n",
    "\n",
    "con = lite.connect('weather.db')\n",
    "cur = con.cursor()"
   ]
  },
  {
   "cell_type": "code",
   "execution_count": 5,
   "metadata": {
    "collapsed": false
   },
   "outputs": [],
   "source": [
    "df = pd.read_sql_query(\"SELECT * FROM daily_temp\",con,index_col='day_of_reading')"
   ]
  },
  {
   "cell_type": "code",
   "execution_count": 6,
   "metadata": {
    "collapsed": false
   },
   "outputs": [
    {
     "name": "stdout",
     "output_type": "stream",
     "text": [
      "                Salt_Lake_City  Austin  New_Orleans  Seattle  Phoenix\n",
      "day_of_reading                                                       \n",
      "20160503                 72.50   76.64        73.16    68.35    91.70\n",
      "20160504                 80.76   85.49        74.95    57.34    99.88\n",
      "20160505                 82.36   87.16        77.77    63.60    95.84\n",
      "20160506                 70.28   84.00        74.56    72.33    74.81\n",
      "20160507                 59.64   83.64        78.36    74.02    76.13\n",
      "20160508                 54.13   72.63        77.99    61.09    78.61\n",
      "20160509                 65.76   86.96        78.28    64.07    83.44\n",
      "20160510                 57.87   89.25        82.97    70.08    88.70\n",
      "20160511                 61.15   85.18        83.84    72.05    92.04\n",
      "20160512                 75.88   82.87        83.59    68.87    98.98\n",
      "20160513                 83.77   84.84        85.74    76.07   100.02\n",
      "20160514                 85.88   80.21        84.24    64.75    98.76\n",
      "20160515                 70.67   72.00        80.45    55.79    91.32\n",
      "20160516                 64.11   78.04        80.80    57.19    89.44\n",
      "20160517                 67.65   81.73        79.74    65.94    87.78\n",
      "20160518                 74.05   76.18        81.95    61.47    84.42\n",
      "20160519                 81.07   74.41        82.64    58.66    91.02\n",
      "20160520                 69.65   79.37        81.98    62.96    94.76\n",
      "20160521                 60.39   82.23        84.79    57.75    88.43\n",
      "20160522                 53.00   85.16        79.95    63.93    85.18\n",
      "20160523                 61.05   83.45        81.28    62.72    86.15\n",
      "20160524                 62.46   86.14        82.51    64.02    85.90\n",
      "20160525                 60.98   86.29        81.69    63.22    87.47\n",
      "20160526                 66.99   85.49        82.93    60.42    83.65\n",
      "20160527                 65.17   76.29        81.87    61.42    91.03\n",
      "20160528                 70.78   87.61        80.63    59.12    95.24\n",
      "20160529                 75.32   86.13        84.32    61.35    95.56\n",
      "20160530                 74.51   87.07        84.80    68.74    92.27\n",
      "20160531                 73.89   81.04        84.02    76.86    97.96\n",
      "20160601                 79.38   85.06        83.87    71.78   101.17\n"
     ]
    }
   ],
   "source": [
    "print(df)"
   ]
  },
  {
   "cell_type": "code",
   "execution_count": 7,
   "metadata": {
    "collapsed": false
   },
   "outputs": [
    {
     "name": "stdout",
     "output_type": "stream",
     "text": [
      "Salt_Lake_City     85.88\n",
      "Austin             89.25\n",
      "New_Orleans        85.74\n",
      "Seattle            76.86\n",
      "Phoenix           101.17\n",
      "dtype: float64\n"
     ]
    }
   ],
   "source": [
    "print(df.max())"
   ]
  },
  {
   "cell_type": "code",
   "execution_count": 8,
   "metadata": {
    "collapsed": false
   },
   "outputs": [
    {
     "name": "stdout",
     "output_type": "stream",
     "text": [
      "Salt_Lake_City    32.88\n",
      "Austin            17.25\n",
      "New_Orleans       12.58\n",
      "Seattle           21.07\n",
      "Phoenix           26.36\n",
      "dtype: float64\n"
     ]
    }
   ],
   "source": [
    "print(df.max() - df.min())"
   ]
  },
  {
   "cell_type": "code",
   "execution_count": 9,
   "metadata": {
    "collapsed": false
   },
   "outputs": [
    {
     "name": "stdout",
     "output_type": "stream",
     "text": [
      "Salt_Lake_City    53.00\n",
      "Austin            72.00\n",
      "New_Orleans       73.16\n",
      "Seattle           55.79\n",
      "Phoenix           74.81\n",
      "dtype: float64\n"
     ]
    }
   ],
   "source": [
    "print(df.min())"
   ]
  },
  {
   "cell_type": "code",
   "execution_count": 10,
   "metadata": {
    "collapsed": false
   },
   "outputs": [
    {
     "name": "stdout",
     "output_type": "stream",
     "text": [
      "Salt_Lake_City    69.370000\n",
      "Austin            82.418667\n",
      "New_Orleans       81.189000\n",
      "Seattle           64.865333\n",
      "Phoenix           90.255333\n",
      "dtype: float64\n"
     ]
    }
   ],
   "source": [
    "print(df.mean())"
   ]
  },
  {
   "cell_type": "code",
   "execution_count": 11,
   "metadata": {
    "collapsed": false
   },
   "outputs": [
    {
     "name": "stdout",
     "output_type": "stream",
     "text": [
      "Salt_Lake_City    79.521041\n",
      "Austin            22.317460\n",
      "New_Orleans       10.212864\n",
      "Seattle           33.948667\n",
      "Phoenix           48.646564\n",
      "dtype: float64\n"
     ]
    }
   ],
   "source": [
    "print(df.var())"
   ]
  },
  {
   "cell_type": "code",
   "execution_count": 13,
   "metadata": {
    "collapsed": false
   },
   "outputs": [],
   "source": [
    "import collections"
   ]
  },
  {
   "cell_type": "code",
   "execution_count": 14,
   "metadata": {
    "collapsed": true
   },
   "outputs": [],
   "source": [
    "daily_change = collections.defaultdict(int)"
   ]
  },
  {
   "cell_type": "code",
   "execution_count": 21,
   "metadata": {
    "collapsed": false
   },
   "outputs": [
    {
     "data": {
      "text/html": [
       "<div>\n",
       "<table border=\"1\" class=\"dataframe\">\n",
       "  <thead>\n",
       "    <tr style=\"text-align: right;\">\n",
       "      <th></th>\n",
       "      <th>Salt_Lake_City</th>\n",
       "      <th>Austin</th>\n",
       "      <th>New_Orleans</th>\n",
       "      <th>Seattle</th>\n",
       "      <th>Phoenix</th>\n",
       "    </tr>\n",
       "    <tr>\n",
       "      <th>day_of_reading</th>\n",
       "      <th></th>\n",
       "      <th></th>\n",
       "      <th></th>\n",
       "      <th></th>\n",
       "      <th></th>\n",
       "    </tr>\n",
       "  </thead>\n",
       "  <tbody>\n",
       "    <tr>\n",
       "      <th>20160503</th>\n",
       "      <td>72.50</td>\n",
       "      <td>76.64</td>\n",
       "      <td>73.16</td>\n",
       "      <td>68.35</td>\n",
       "      <td>91.70</td>\n",
       "    </tr>\n",
       "    <tr>\n",
       "      <th>20160504</th>\n",
       "      <td>80.76</td>\n",
       "      <td>85.49</td>\n",
       "      <td>74.95</td>\n",
       "      <td>57.34</td>\n",
       "      <td>99.88</td>\n",
       "    </tr>\n",
       "    <tr>\n",
       "      <th>20160505</th>\n",
       "      <td>82.36</td>\n",
       "      <td>87.16</td>\n",
       "      <td>77.77</td>\n",
       "      <td>63.60</td>\n",
       "      <td>95.84</td>\n",
       "    </tr>\n",
       "    <tr>\n",
       "      <th>20160506</th>\n",
       "      <td>70.28</td>\n",
       "      <td>84.00</td>\n",
       "      <td>74.56</td>\n",
       "      <td>72.33</td>\n",
       "      <td>74.81</td>\n",
       "    </tr>\n",
       "    <tr>\n",
       "      <th>20160507</th>\n",
       "      <td>59.64</td>\n",
       "      <td>83.64</td>\n",
       "      <td>78.36</td>\n",
       "      <td>74.02</td>\n",
       "      <td>76.13</td>\n",
       "    </tr>\n",
       "  </tbody>\n",
       "</table>\n",
       "</div>"
      ],
      "text/plain": [
       "                Salt_Lake_City  Austin  New_Orleans  Seattle  Phoenix\n",
       "day_of_reading                                                       \n",
       "20160503                 72.50   76.64        73.16    68.35    91.70\n",
       "20160504                 80.76   85.49        74.95    57.34    99.88\n",
       "20160505                 82.36   87.16        77.77    63.60    95.84\n",
       "20160506                 70.28   84.00        74.56    72.33    74.81\n",
       "20160507                 59.64   83.64        78.36    74.02    76.13"
      ]
     },
     "execution_count": 21,
     "metadata": {},
     "output_type": "execute_result"
    }
   ],
   "source": [
    "df.head()"
   ]
  },
  {
   "cell_type": "code",
   "execution_count": 22,
   "metadata": {
    "collapsed": false
   },
   "outputs": [
    {
     "data": {
      "text/html": [
       "<div>\n",
       "<table border=\"1\" class=\"dataframe\">\n",
       "  <thead>\n",
       "    <tr style=\"text-align: right;\">\n",
       "      <th></th>\n",
       "      <th>Salt_Lake_City</th>\n",
       "      <th>Austin</th>\n",
       "      <th>New_Orleans</th>\n",
       "      <th>Seattle</th>\n",
       "      <th>Phoenix</th>\n",
       "    </tr>\n",
       "    <tr>\n",
       "      <th>day_of_reading</th>\n",
       "      <th></th>\n",
       "      <th></th>\n",
       "      <th></th>\n",
       "      <th></th>\n",
       "      <th></th>\n",
       "    </tr>\n",
       "  </thead>\n",
       "  <tbody>\n",
       "    <tr>\n",
       "      <th>20160503</th>\n",
       "      <td>NaN</td>\n",
       "      <td>NaN</td>\n",
       "      <td>NaN</td>\n",
       "      <td>NaN</td>\n",
       "      <td>NaN</td>\n",
       "    </tr>\n",
       "    <tr>\n",
       "      <th>20160504</th>\n",
       "      <td>8.26</td>\n",
       "      <td>8.85</td>\n",
       "      <td>1.79</td>\n",
       "      <td>-11.01</td>\n",
       "      <td>8.18</td>\n",
       "    </tr>\n",
       "    <tr>\n",
       "      <th>20160505</th>\n",
       "      <td>1.60</td>\n",
       "      <td>1.67</td>\n",
       "      <td>2.82</td>\n",
       "      <td>6.26</td>\n",
       "      <td>-4.04</td>\n",
       "    </tr>\n",
       "    <tr>\n",
       "      <th>20160506</th>\n",
       "      <td>-12.08</td>\n",
       "      <td>-3.16</td>\n",
       "      <td>-3.21</td>\n",
       "      <td>8.73</td>\n",
       "      <td>-21.03</td>\n",
       "    </tr>\n",
       "    <tr>\n",
       "      <th>20160507</th>\n",
       "      <td>-10.64</td>\n",
       "      <td>-0.36</td>\n",
       "      <td>3.80</td>\n",
       "      <td>1.69</td>\n",
       "      <td>1.32</td>\n",
       "    </tr>\n",
       "  </tbody>\n",
       "</table>\n",
       "</div>"
      ],
      "text/plain": [
       "                Salt_Lake_City  Austin  New_Orleans  Seattle  Phoenix\n",
       "day_of_reading                                                       \n",
       "20160503                   NaN     NaN          NaN      NaN      NaN\n",
       "20160504                  8.26    8.85         1.79   -11.01     8.18\n",
       "20160505                  1.60    1.67         2.82     6.26    -4.04\n",
       "20160506                -12.08   -3.16        -3.21     8.73   -21.03\n",
       "20160507                -10.64   -0.36         3.80     1.69     1.32"
      ]
     },
     "execution_count": 22,
     "metadata": {},
     "output_type": "execute_result"
    }
   ],
   "source": [
    "df.head().diff()"
   ]
  },
  {
   "cell_type": "code",
   "execution_count": 23,
   "metadata": {
    "collapsed": false
   },
   "outputs": [
    {
     "data": {
      "text/html": [
       "<div>\n",
       "<table border=\"1\" class=\"dataframe\">\n",
       "  <thead>\n",
       "    <tr style=\"text-align: right;\">\n",
       "      <th></th>\n",
       "      <th>Salt_Lake_City</th>\n",
       "      <th>Austin</th>\n",
       "      <th>New_Orleans</th>\n",
       "      <th>Seattle</th>\n",
       "      <th>Phoenix</th>\n",
       "    </tr>\n",
       "    <tr>\n",
       "      <th>day_of_reading</th>\n",
       "      <th></th>\n",
       "      <th></th>\n",
       "      <th></th>\n",
       "      <th></th>\n",
       "      <th></th>\n",
       "    </tr>\n",
       "  </thead>\n",
       "  <tbody>\n",
       "    <tr>\n",
       "      <th>20160503</th>\n",
       "      <td>NaN</td>\n",
       "      <td>NaN</td>\n",
       "      <td>NaN</td>\n",
       "      <td>NaN</td>\n",
       "      <td>NaN</td>\n",
       "    </tr>\n",
       "    <tr>\n",
       "      <th>20160504</th>\n",
       "      <td>8.26</td>\n",
       "      <td>8.85</td>\n",
       "      <td>1.79</td>\n",
       "      <td>11.01</td>\n",
       "      <td>8.18</td>\n",
       "    </tr>\n",
       "    <tr>\n",
       "      <th>20160505</th>\n",
       "      <td>1.60</td>\n",
       "      <td>1.67</td>\n",
       "      <td>2.82</td>\n",
       "      <td>6.26</td>\n",
       "      <td>4.04</td>\n",
       "    </tr>\n",
       "    <tr>\n",
       "      <th>20160506</th>\n",
       "      <td>12.08</td>\n",
       "      <td>3.16</td>\n",
       "      <td>3.21</td>\n",
       "      <td>8.73</td>\n",
       "      <td>21.03</td>\n",
       "    </tr>\n",
       "    <tr>\n",
       "      <th>20160507</th>\n",
       "      <td>10.64</td>\n",
       "      <td>0.36</td>\n",
       "      <td>3.80</td>\n",
       "      <td>1.69</td>\n",
       "      <td>1.32</td>\n",
       "    </tr>\n",
       "  </tbody>\n",
       "</table>\n",
       "</div>"
      ],
      "text/plain": [
       "                Salt_Lake_City  Austin  New_Orleans  Seattle  Phoenix\n",
       "day_of_reading                                                       \n",
       "20160503                   NaN     NaN          NaN      NaN      NaN\n",
       "20160504                  8.26    8.85         1.79    11.01     8.18\n",
       "20160505                  1.60    1.67         2.82     6.26     4.04\n",
       "20160506                 12.08    3.16         3.21     8.73    21.03\n",
       "20160507                 10.64    0.36         3.80     1.69     1.32"
      ]
     },
     "execution_count": 23,
     "metadata": {},
     "output_type": "execute_result"
    }
   ],
   "source": [
    "df.head().diff().abs()"
   ]
  },
  {
   "cell_type": "code",
   "execution_count": 24,
   "metadata": {
    "collapsed": false
   },
   "outputs": [
    {
     "data": {
      "text/plain": [
       "Salt_Lake_City    8.1450\n",
       "Austin            3.5100\n",
       "New_Orleans       2.9050\n",
       "Seattle           6.9225\n",
       "Phoenix           8.6425\n",
       "dtype: float64"
      ]
     },
     "execution_count": 24,
     "metadata": {},
     "output_type": "execute_result"
    }
   ],
   "source": [
    "df.head().diff().abs().mean()"
   ]
  },
  {
   "cell_type": "code",
   "execution_count": 25,
   "metadata": {
    "collapsed": false
   },
   "outputs": [
    {
     "data": {
      "text/plain": [
       "Salt_Lake_City    6.491724\n",
       "Austin            4.448276\n",
       "New_Orleans       1.730000\n",
       "Seattle           5.089310\n",
       "Phoenix           4.299655\n",
       "dtype: float64"
      ]
     },
     "execution_count": 25,
     "metadata": {},
     "output_type": "execute_result"
    }
   ],
   "source": [
    "df.diff().abs().mean()"
   ]
  },
  {
   "cell_type": "code",
   "execution_count": 26,
   "metadata": {
    "collapsed": true
   },
   "outputs": [],
   "source": [
    "daily_diff = df.diff().abs()"
   ]
  },
  {
   "cell_type": "code",
   "execution_count": 27,
   "metadata": {
    "collapsed": true
   },
   "outputs": [],
   "source": [
    "import matplotlib.pyplot as plt\n",
    "import pandas as pd\n",
    "%matplotlib inline"
   ]
  },
  {
   "cell_type": "code",
   "execution_count": 28,
   "metadata": {
    "collapsed": false
   },
   "outputs": [
    {
     "data": {
      "image/png": "[encoded data removed]",
      "text/plain": [
       "<matplotlib.figure.Figure at 0x9be7eb8>"
      ]
     },
     "metadata": {},
     "output_type": "display_data"
    }
   ],
   "source": [
    "daily_diff.hist()\n",
    "plt.show()"
   ]
  },
  {
   "cell_type": "code",
   "execution_count": 29,
   "metadata": {
    "collapsed": false
   },
   "outputs": [
    {
     "name": "stdout",
     "output_type": "stream",
     "text": [
      "                Salt_Lake_City  Austin  New_Orleans  Seattle  Phoenix\n",
      "day_of_reading                                                       \n",
      "20160503                   NaN     NaN          NaN      NaN      NaN\n",
      "20160504                  8.26    8.85         1.79    11.01     8.18\n",
      "20160505                  1.60    1.67         2.82     6.26     4.04\n",
      "20160506                 12.08    3.16         3.21     8.73    21.03\n",
      "20160507                 10.64    0.36         3.80     1.69     1.32\n",
      "20160508                  5.51   11.01         0.37    12.93     2.48\n",
      "20160509                 11.63   14.33         0.29     2.98     4.83\n",
      "20160510                  7.89    2.29         4.69     6.01     5.26\n",
      "20160511                  3.28    4.07         0.87     1.97     3.34\n",
      "20160512                 14.73    2.31         0.25     3.18     6.94\n",
      "20160513                  7.89    1.97         2.15     7.20     1.04\n",
      "20160514                  2.11    4.63         1.50    11.32     1.26\n",
      "20160515                 15.21    8.21         3.79     8.96     7.44\n",
      "20160516                  6.56    6.04         0.35     1.40     1.88\n",
      "20160517                  3.54    3.69         1.06     8.75     1.66\n",
      "20160518                  6.40    5.55         2.21     4.47     3.36\n",
      "20160519                  7.02    1.77         0.69     2.81     6.60\n",
      "20160520                 11.42    4.96         0.66     4.30     3.74\n",
      "20160521                  9.26    2.86         2.81     5.21     6.33\n",
      "20160522                  7.39    2.93         4.84     6.18     3.25\n",
      "20160523                  8.05    1.71         1.33     1.21     0.97\n",
      "20160524                  1.41    2.69         1.23     1.30     0.25\n",
      "20160525                  1.48    0.15         0.82     0.80     1.57\n",
      "20160526                  6.01    0.80         1.24     2.80     3.82\n",
      "20160527                  1.82    9.20         1.06     1.00     7.38\n",
      "20160528                  5.61   11.32         1.24     2.30     4.21\n",
      "20160529                  4.54    1.48         3.69     2.23     0.32\n",
      "20160530                  0.81    0.94         0.48     7.39     3.29\n",
      "20160531                  0.62    6.03         0.78     8.12     5.69\n",
      "20160601                  5.49    4.02         0.15     5.08     3.21\n"
     ]
    }
   ],
   "source": [
    "print(daily_diff)"
   ]
  },
  {
   "cell_type": "code",
   "execution_count": null,
   "metadata": {
    "collapsed": true
   },
   "outputs": [],
   "source": []
  }
 ],
 "metadata": {
  "kernelspec": {
   "display_name": "Python 2",
   "language": "python",
   "name": "python2"
  },
  "language_info": {
   "codemirror_mode": {
    "name": "ipython",
    "version": 2
   },
   "file_extension": ".py",
   "mimetype": "text/x-python",
   "name": "python",
   "nbconvert_exporter": "python",
   "pygments_lexer": "ipython2",
   "version": "2.7.11"
  }
 },
 "nbformat": 4,
 "nbformat_minor": 0
}
