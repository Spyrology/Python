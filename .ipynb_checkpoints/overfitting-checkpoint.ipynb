{
 "cells": [
  {
   "cell_type": "code",
   "execution_count": 24,
   "metadata": {
    "collapsed": true
   },
   "outputs": [],
   "source": [
    "import numpy as np\n",
    "import statsmodels.formula.api as smf\n",
    "import pandas as pd\n",
    "import statsmodels.api as sm\n",
    "import matplotlib.pyplot as plt"
   ]
  },
  {
   "cell_type": "code",
   "execution_count": 2,
   "metadata": {
    "collapsed": true
   },
   "outputs": [],
   "source": [
    "# Set seed for reproducible results\n",
    "np.random.seed(414)"
   ]
  },
  {
   "cell_type": "code",
   "execution_count": 3,
   "metadata": {
    "collapsed": true
   },
   "outputs": [],
   "source": [
    "# Gen toy data\n",
    "X = np.linspace(0, 15, 1000)\n",
    "y = 3 * np.sin(X) + np.random.normal(1 + X, .2, 1000)"
   ]
  },
  {
   "cell_type": "code",
   "execution_count": 4,
   "metadata": {
    "collapsed": true
   },
   "outputs": [],
   "source": [
    "train_X, train_y = X[:700], y[:700]\n",
    "test_X, test_y = X[700:], y[700:]"
   ]
  },
  {
   "cell_type": "code",
   "execution_count": 7,
   "metadata": {
    "collapsed": false
   },
   "outputs": [],
   "source": [
    "train_df = pd.DataFrame({'X': train_X, 'y': train_y})\n",
    "test_df = pd.DataFrame({'X': test_X, 'y': test_y})"
   ]
  },
  {
   "cell_type": "code",
   "execution_count": 14,
   "metadata": {
    "collapsed": true
   },
   "outputs": [],
   "source": [
    "# Linear Fit\n",
    "poly_l = smf.ols(formula='y ~ 1 + X', data=train_df).fit()"
   ]
  },
  {
   "cell_type": "code",
   "execution_count": 9,
   "metadata": {
    "collapsed": true
   },
   "outputs": [],
   "source": [
    "# Quadratic Fit\n",
    "poly_q = smf.ols(formula='y ~ 1 + X + I(X**2)', data=train_df).fit()"
   ]
  },
  {
   "cell_type": "code",
   "execution_count": 10,
   "metadata": {
    "collapsed": true
   },
   "outputs": [],
   "source": [
    "# Linear Fit\n",
    "poly_lt = smf.ols(formula='y ~ 1 + X', data=test_df).fit()"
   ]
  },
  {
   "cell_type": "code",
   "execution_count": 11,
   "metadata": {
    "collapsed": true
   },
   "outputs": [],
   "source": [
    "# Quadratic Fit\n",
    "poly_qt = smf.ols(formula='y ~ 1 + X + I(X**2)', data=test_df).fit()"
   ]
  },
  {
   "cell_type": "code",
   "execution_count": 15,
   "metadata": {
    "collapsed": false
   },
   "outputs": [
    {
     "name": "stdout",
     "output_type": "stream",
     "text": [
      "                            OLS Regression Results                            \n",
      "==============================================================================\n",
      "Dep. Variable:                      y   R-squared:                       0.642\n",
      "Model:                            OLS   Adj. R-squared:                  0.642\n",
      "Method:                 Least Squares   F-statistic:                     1254.\n",
      "Date:                Wed, 06 Jul 2016   Prob (F-statistic):          5.52e-158\n",
      "Time:                        20:47:07   Log-Likelihood:                -1483.4\n",
      "No. Observations:                 700   AIC:                             2971.\n",
      "Df Residuals:                     698   BIC:                             2980.\n",
      "Df Model:                           1                                         \n",
      "Covariance Type:            nonrobust                                         \n",
      "==============================================================================\n",
      "                 coef    std err          t      P>|t|      [95.0% Conf. Int.]\n",
      "------------------------------------------------------------------------------\n",
      "Intercept      1.9959      0.152     13.104      0.000         1.697     2.295\n",
      "X              0.8896      0.025     35.405      0.000         0.840     0.939\n",
      "==============================================================================\n",
      "Omnibus:                      701.108   Durbin-Watson:                   0.020\n",
      "Prob(Omnibus):                  0.000   Jarque-Bera (JB):               52.980\n",
      "Skew:                          -0.259   Prob(JB):                     3.13e-12\n",
      "Kurtosis:                       1.756   Cond. No.                         12.4\n",
      "==============================================================================\n",
      "\n",
      "Warnings:\n",
      "[1] Standard Errors assume that the covariance matrix of the errors is correctly specified.\n"
     ]
    }
   ],
   "source": [
    "print(poly_l.summary())"
   ]
  },
  {
   "cell_type": "code",
   "execution_count": 16,
   "metadata": {
    "collapsed": false
   },
   "outputs": [
    {
     "name": "stdout",
     "output_type": "stream",
     "text": [
      "                            OLS Regression Results                            \n",
      "==============================================================================\n",
      "Dep. Variable:                      y   R-squared:                       0.666\n",
      "Model:                            OLS   Adj. R-squared:                  0.665\n",
      "Method:                 Least Squares   F-statistic:                     694.4\n",
      "Date:                Wed, 06 Jul 2016   Prob (F-statistic):          1.25e-166\n",
      "Time:                        20:47:24   Log-Likelihood:                -1459.6\n",
      "No. Observations:                 700   AIC:                             2925.\n",
      "Df Residuals:                     697   BIC:                             2939.\n",
      "Df Model:                           2                                         \n",
      "Covariance Type:            nonrobust                                         \n",
      "==============================================================================\n",
      "                 coef    std err          t      P>|t|      [95.0% Conf. Int.]\n",
      "------------------------------------------------------------------------------\n",
      "Intercept      3.1458      0.221     14.261      0.000         2.713     3.579\n",
      "X              0.2313      0.097      2.382      0.017         0.041     0.422\n",
      "I(X ** 2)      0.0627      0.009      7.004      0.000         0.045     0.080\n",
      "==============================================================================\n",
      "Omnibus:                     1210.467   Durbin-Watson:                   0.022\n",
      "Prob(Omnibus):                  0.000   Jarque-Bera (JB):               49.911\n",
      "Skew:                          -0.091   Prob(JB):                     1.45e-11\n",
      "Kurtosis:                       1.705   Cond. No.                         160.\n",
      "==============================================================================\n",
      "\n",
      "Warnings:\n",
      "[1] Standard Errors assume that the covariance matrix of the errors is correctly specified.\n"
     ]
    }
   ],
   "source": [
    "print(poly_q.summary())"
   ]
  },
  {
   "cell_type": "code",
   "execution_count": 17,
   "metadata": {
    "collapsed": false
   },
   "outputs": [
    {
     "name": "stdout",
     "output_type": "stream",
     "text": [
      "                            OLS Regression Results                            \n",
      "==============================================================================\n",
      "Dep. Variable:                      y   R-squared:                       0.958\n",
      "Model:                            OLS   Adj. R-squared:                  0.957\n",
      "Method:                 Least Squares   F-statistic:                     6715.\n",
      "Date:                Wed, 06 Jul 2016   Prob (F-statistic):          1.96e-206\n",
      "Time:                        20:47:30   Log-Likelihood:                -336.79\n",
      "No. Observations:                 300   AIC:                             677.6\n",
      "Df Residuals:                     298   BIC:                             685.0\n",
      "Df Model:                           1                                         \n",
      "Covariance Type:            nonrobust                                         \n",
      "==============================================================================\n",
      "                 coef    std err          t      P>|t|      [95.0% Conf. Int.]\n",
      "------------------------------------------------------------------------------\n",
      "Intercept    -20.6762      0.425    -48.684      0.000       -21.512   -19.840\n",
      "X              2.7144      0.033     81.945      0.000         2.649     2.780\n",
      "==============================================================================\n",
      "Omnibus:                        8.165   Durbin-Watson:                   0.159\n",
      "Prob(Omnibus):                  0.017   Jarque-Bera (JB):                7.788\n",
      "Skew:                          -0.346   Prob(JB):                       0.0204\n",
      "Kurtosis:                       2.622   Cond. No.                         127.\n",
      "==============================================================================\n",
      "\n",
      "Warnings:\n",
      "[1] Standard Errors assume that the covariance matrix of the errors is correctly specified.\n"
     ]
    }
   ],
   "source": [
    "print(poly_lt.summary())"
   ]
  },
  {
   "cell_type": "code",
   "execution_count": 18,
   "metadata": {
    "collapsed": false
   },
   "outputs": [
    {
     "name": "stdout",
     "output_type": "stream",
     "text": [
      "                            OLS Regression Results                            \n",
      "==============================================================================\n",
      "Dep. Variable:                      y   R-squared:                       0.964\n",
      "Model:                            OLS   Adj. R-squared:                  0.964\n",
      "Method:                 Least Squares   F-statistic:                     3954.\n",
      "Date:                Wed, 06 Jul 2016   Prob (F-statistic):          9.17e-215\n",
      "Time:                        20:47:42   Log-Likelihood:                -312.73\n",
      "No. Observations:                 300   AIC:                             631.5\n",
      "Df Residuals:                     297   BIC:                             642.6\n",
      "Df Model:                           2                                         \n",
      "Covariance Type:            nonrobust                                         \n",
      "==============================================================================\n",
      "                 coef    std err          t      P>|t|      [95.0% Conf. Int.]\n",
      "------------------------------------------------------------------------------\n",
      "Intercept    -51.1460      4.258    -12.013      0.000       -59.525   -42.767\n",
      "X              7.5422      0.672     11.217      0.000         6.219     8.865\n",
      "I(X ** 2)     -0.1892      0.026     -7.187      0.000        -0.241    -0.137\n",
      "==============================================================================\n",
      "Omnibus:                       18.441   Durbin-Watson:                   0.187\n",
      "Prob(Omnibus):                  0.000   Jarque-Bera (JB):                7.757\n",
      "Skew:                           0.115   Prob(JB):                       0.0207\n",
      "Kurtosis:                       2.247   Cond. No.                     1.82e+04\n",
      "==============================================================================\n",
      "\n",
      "Warnings:\n",
      "[1] Standard Errors assume that the covariance matrix of the errors is correctly specified.\n",
      "[2] The condition number is large, 1.82e+04. This might indicate that there are\n",
      "strong multicollinearity or other numerical problems.\n"
     ]
    }
   ],
   "source": [
    "print(poly_qt.summary())"
   ]
  },
  {
   "cell_type": "code",
   "execution_count": 22,
   "metadata": {
    "collapsed": false
   },
   "outputs": [],
   "source": [
    "model = sm.OLS(y,X)"
   ]
  },
  {
   "cell_type": "code",
   "execution_count": 31,
   "metadata": {
    "collapsed": false
   },
   "outputs": [],
   "source": [
    "plt.plot(X,y)\n",
    "plt.show()"
   ]
  },
  {
   "cell_type": "code",
   "execution_count": 35,
   "metadata": {
    "collapsed": false
   },
   "outputs": [],
   "source": [
    "import statsmodels.regression.linear_model as lm"
   ]
  },
  {
   "cell_type": "code",
   "execution_count": 40,
   "metadata": {
    "collapsed": false
   },
   "outputs": [
    {
     "data": {
      "text/plain": [
       "5099.7841870644406"
      ]
     },
     "execution_count": 40,
     "metadata": {},
     "output_type": "execute_result"
    }
   ],
   "source": [
    "lm.RegressionResults.mse_model(poly_l)"
   ]
  },
  {
   "cell_type": "code",
   "execution_count": 41,
   "metadata": {
    "collapsed": false
   },
   "outputs": [
    {
     "data": {
      "text/plain": [
       "3737.4434519777815"
      ]
     },
     "execution_count": 41,
     "metadata": {},
     "output_type": "execute_result"
    }
   ],
   "source": [
    "lm.RegressionResults.mse_model(poly_lt)"
   ]
  },
  {
   "cell_type": "code",
   "execution_count": 42,
   "metadata": {
    "collapsed": false
   },
   "outputs": [
    {
     "data": {
      "text/plain": [
       "array([ 71.41277328,  61.13463382])"
      ]
     },
     "execution_count": 42,
     "metadata": {},
     "output_type": "execute_result"
    }
   ],
   "source": [
    "np.sqrt([5099.7841870644406,3737.4434519777815])"
   ]
  },
  {
   "cell_type": "code",
   "execution_count": 45,
   "metadata": {
    "collapsed": true
   },
   "outputs": [],
   "source": [
    "def rmse(model):\n",
    "    print(np.sqrt(lm.RegressionResults.mse_model(model)))\n"
   ]
  },
  {
   "cell_type": "code",
   "execution_count": 46,
   "metadata": {
    "collapsed": false
   },
   "outputs": [
    {
     "name": "stdout",
     "output_type": "stream",
     "text": [
      "71.4127732767\n"
     ]
    }
   ],
   "source": [
    "rmse(poly_l)"
   ]
  },
  {
   "cell_type": "code",
   "execution_count": 47,
   "metadata": {
    "collapsed": false
   },
   "outputs": [
    {
     "name": "stdout",
     "output_type": "stream",
     "text": [
      "61.1346338173\n"
     ]
    }
   ],
   "source": [
    "rmse(poly_lt)"
   ]
  },
  {
   "cell_type": "code",
   "execution_count": 48,
   "metadata": {
    "collapsed": false
   },
   "outputs": [
    {
     "name": "stdout",
     "output_type": "stream",
     "text": [
      "51.4125040631\n"
     ]
    }
   ],
   "source": [
    "rmse(poly_q)"
   ]
  },
  {
   "cell_type": "code",
   "execution_count": 49,
   "metadata": {
    "collapsed": false
   },
   "outputs": [
    {
     "name": "stdout",
     "output_type": "stream",
     "text": [
      "43.37059528\n"
     ]
    }
   ],
   "source": [
    "rmse(poly_qt)"
   ]
  },
  {
   "cell_type": "code",
   "execution_count": 53,
   "metadata": {
    "collapsed": false
   },
   "outputs": [
    {
     "data": {
      "text/plain": [
       "array([ 11.34605278,  11.35941012,  11.37276745,  11.38612479,\n",
       "        11.39948213,  11.41283947,  11.4261968 ,  11.43955414,\n",
       "        11.45291148,  11.46626882,  11.47962616,  11.49298349,\n",
       "        11.50634083,  11.51969817,  11.53305551,  11.54641284,\n",
       "        11.55977018,  11.57312752,  11.58648486,  11.59984219,\n",
       "        11.61319953,  11.62655687,  11.63991421,  11.65327154,\n",
       "        11.66662888,  11.67998622,  11.69334356,  11.7067009 ,\n",
       "        11.72005823,  11.73341557,  11.74677291,  11.76013025,\n",
       "        11.77348758,  11.78684492,  11.80020226,  11.8135596 ,\n",
       "        11.82691693,  11.84027427,  11.85363161,  11.86698895,\n",
       "        11.88034629,  11.89370362,  11.90706096,  11.9204183 ,\n",
       "        11.93377564,  11.94713297,  11.96049031,  11.97384765,\n",
       "        11.98720499,  12.00056232,  12.01391966,  12.027277  ,\n",
       "        12.04063434,  12.05399168,  12.06734901,  12.08070635,\n",
       "        12.09406369,  12.10742103,  12.12077836,  12.1341357 ,\n",
       "        12.14749304,  12.16085038,  12.17420771,  12.18756505,\n",
       "        12.20092239,  12.21427973,  12.22763706,  12.2409944 ,\n",
       "        12.25435174,  12.26770908,  12.28106642,  12.29442375,\n",
       "        12.30778109,  12.32113843,  12.33449577,  12.3478531 ,\n",
       "        12.36121044,  12.37456778,  12.38792512,  12.40128245,\n",
       "        12.41463979,  12.42799713,  12.44135447,  12.45471181,\n",
       "        12.46806914,  12.48142648,  12.49478382,  12.50814116,\n",
       "        12.52149849,  12.53485583,  12.54821317,  12.56157051,\n",
       "        12.57492784,  12.58828518,  12.60164252,  12.61499986,\n",
       "        12.6283572 ,  12.64171453,  12.65507187,  12.66842921,\n",
       "        12.68178655,  12.69514388,  12.70850122,  12.72185856,\n",
       "        12.7352159 ,  12.74857323,  12.76193057,  12.77528791,\n",
       "        12.78864525,  12.80200259,  12.81535992,  12.82871726,\n",
       "        12.8420746 ,  12.85543194,  12.86878927,  12.88214661,\n",
       "        12.89550395,  12.90886129,  12.92221862,  12.93557596,\n",
       "        12.9489333 ,  12.96229064,  12.97564797,  12.98900531,\n",
       "        13.00236265,  13.01571999,  13.02907733,  13.04243466,\n",
       "        13.055792  ,  13.06914934,  13.08250668,  13.09586401,\n",
       "        13.10922135,  13.12257869,  13.13593603,  13.14929336,\n",
       "        13.1626507 ,  13.17600804,  13.18936538,  13.20272272,\n",
       "        13.21608005,  13.22943739,  13.24279473,  13.25615207,\n",
       "        13.2695094 ,  13.28286674,  13.29622408,  13.30958142,\n",
       "        13.32293875,  13.33629609,  13.34965343,  13.36301077,\n",
       "        13.37636811,  13.38972544,  13.40308278,  13.41644012,\n",
       "        13.42979746,  13.44315479,  13.45651213,  13.46986947,\n",
       "        13.48322681,  13.49658414,  13.50994148,  13.52329882,\n",
       "        13.53665616,  13.55001349,  13.56337083,  13.57672817,\n",
       "        13.59008551,  13.60344285,  13.61680018,  13.63015752,\n",
       "        13.64351486,  13.6568722 ,  13.67022953,  13.68358687,\n",
       "        13.69694421,  13.71030155,  13.72365888,  13.73701622,\n",
       "        13.75037356,  13.7637309 ,  13.77708824,  13.79044557,\n",
       "        13.80380291,  13.81716025,  13.83051759,  13.84387492,\n",
       "        13.85723226,  13.8705896 ,  13.88394694,  13.89730427,\n",
       "        13.91066161,  13.92401895,  13.93737629,  13.95073363,\n",
       "        13.96409096,  13.9774483 ,  13.99080564,  14.00416298,\n",
       "        14.01752031,  14.03087765,  14.04423499,  14.05759233,\n",
       "        14.07094966,  14.084307  ,  14.09766434,  14.11102168,\n",
       "        14.12437901,  14.13773635,  14.15109369,  14.16445103,\n",
       "        14.17780837,  14.1911657 ,  14.20452304,  14.21788038,\n",
       "        14.23123772,  14.24459505,  14.25795239,  14.27130973,\n",
       "        14.28466707,  14.2980244 ,  14.31138174,  14.32473908,\n",
       "        14.33809642,  14.35145376,  14.36481109,  14.37816843,\n",
       "        14.39152577,  14.40488311,  14.41824044,  14.43159778,\n",
       "        14.44495512,  14.45831246,  14.47166979,  14.48502713,\n",
       "        14.49838447,  14.51174181,  14.52509915,  14.53845648,\n",
       "        14.55181382,  14.56517116,  14.5785285 ,  14.59188583,\n",
       "        14.60524317,  14.61860051,  14.63195785,  14.64531518,\n",
       "        14.65867252,  14.67202986,  14.6853872 ,  14.69874454,\n",
       "        14.71210187,  14.72545921,  14.73881655,  14.75217389,\n",
       "        14.76553122,  14.77888856,  14.7922459 ,  14.80560324,\n",
       "        14.81896057,  14.83231791,  14.84567525,  14.85903259,\n",
       "        14.87238992,  14.88574726,  14.8991046 ,  14.91246194,\n",
       "        14.92581928,  14.93917661,  14.95253395,  14.96589129,\n",
       "        14.97924863,  14.99260596,  15.0059633 ,  15.01932064,\n",
       "        15.03267798,  15.04603531,  15.05939265,  15.07274999,\n",
       "        15.08610733,  15.09946467,  15.112822  ,  15.12617934,\n",
       "        15.13953668,  15.15289402,  15.16625135,  15.17960869,\n",
       "        15.19296603,  15.20632337,  15.2196807 ,  15.23303804,\n",
       "        15.24639538,  15.25975272,  15.27311006,  15.28646739,\n",
       "        15.29982473,  15.31318207,  15.32653941,  15.33989674])"
      ]
     },
     "execution_count": 53,
     "metadata": {},
     "output_type": "execute_result"
    }
   ],
   "source": [
    "poly_l.predict(test_df)"
   ]
  },
  {
   "cell_type": "code",
   "execution_count": 55,
   "metadata": {
    "collapsed": false
   },
   "outputs": [
    {
     "name": "stdout",
     "output_type": "stream",
     "text": [
      "             X          y\n",
      "0    10.510511   9.113557\n",
      "1    10.525526   8.798065\n",
      "2    10.540541   8.931348\n",
      "3    10.555556   9.047734\n",
      "4    10.570571   8.659095\n",
      "5    10.585586   9.115196\n",
      "6    10.600601   8.966861\n",
      "7    10.615616   8.947426\n",
      "8    10.630631   8.761166\n",
      "9    10.645646   8.570319\n",
      "10   10.660661   8.542211\n",
      "11   10.675676   8.840849\n",
      "12   10.690691   8.685590\n",
      "13   10.705706   9.116769\n",
      "14   10.720721   9.013263\n",
      "15   10.735736   8.645331\n",
      "16   10.750751   8.956652\n",
      "17   10.765766   8.911172\n",
      "18   10.780781   8.496090\n",
      "19   10.795796   8.867917\n",
      "20   10.810811   8.936554\n",
      "21   10.825826   8.829840\n",
      "22   10.840841   9.052438\n",
      "23   10.855856   8.630678\n",
      "24   10.870871   8.828351\n",
      "25   10.885886   8.995500\n",
      "26   10.900901   8.735839\n",
      "27   10.915916   9.041912\n",
      "28   10.930931   8.613124\n",
      "29   10.945946   8.498318\n",
      "..         ...        ...\n",
      "270  14.564565  18.319723\n",
      "271  14.579580  18.164795\n",
      "272  14.594595  18.381468\n",
      "273  14.609610  18.050854\n",
      "274  14.624625  18.022420\n",
      "275  14.639640  18.263179\n",
      "276  14.654655  18.530608\n",
      "277  14.669670  18.346488\n",
      "278  14.684685  18.368021\n",
      "279  14.699700  18.127846\n",
      "280  14.714715  18.329376\n",
      "281  14.729730  18.223719\n",
      "282  14.744745  18.408968\n",
      "283  14.759760  18.461415\n",
      "284  14.774775  18.273132\n",
      "285  14.789790  18.052979\n",
      "286  14.804805  18.096345\n",
      "287  14.819820  17.917506\n",
      "288  14.834835  18.280223\n",
      "289  14.849850  18.105073\n",
      "290  14.864865  18.365080\n",
      "291  14.879880  18.380153\n",
      "292  14.894895  18.046442\n",
      "293  14.909910  17.777680\n",
      "294  14.924925  18.202361\n",
      "295  14.939940  17.680874\n",
      "296  14.954955  17.963930\n",
      "297  14.969970  18.089490\n",
      "298  14.984985  17.919929\n",
      "299  15.000000  18.132281\n",
      "\n",
      "[300 rows x 2 columns]\n"
     ]
    }
   ],
   "source": [
    "print(test_df)"
   ]
  },
  {
   "cell_type": "code",
   "execution_count": 56,
   "metadata": {
    "collapsed": false
   },
   "outputs": [
    {
     "data": {
      "text/plain": [
       "0      2.232496\n",
       "1      2.561345\n",
       "2      2.441419\n",
       "3      2.338391\n",
       "4      2.740387\n",
       "5      2.297643\n",
       "6      2.459336\n",
       "7      2.492128\n",
       "8      2.691746\n",
       "9      2.895950\n",
       "10     2.937415\n",
       "11     2.652134\n",
       "12     2.820751\n",
       "13     2.402929\n",
       "14     2.519792\n",
       "15     2.901082\n",
       "16     2.603119\n",
       "17     2.661955\n",
       "18     3.090395\n",
       "19     2.731925\n",
       "20     2.676645\n",
       "21     2.796717\n",
       "22     2.587477\n",
       "23     3.022593\n",
       "24     2.838278\n",
       "25     2.684486\n",
       "26     2.957505\n",
       "27     2.664789\n",
       "28     3.106934\n",
       "29     3.235098\n",
       "         ...   \n",
       "270   -3.367189\n",
       "271   -3.198904\n",
       "272   -3.402219\n",
       "273   -3.058248\n",
       "274   -3.016457\n",
       "275   -3.243858\n",
       "276   -3.497930\n",
       "277   -3.300452\n",
       "278   -3.308628\n",
       "279   -3.055096\n",
       "280   -3.243268\n",
       "281   -3.124255\n",
       "282   -3.296146\n",
       "283   -3.335235\n",
       "284   -3.133595\n",
       "285   -2.900085\n",
       "286   -2.930093\n",
       "287   -2.737897\n",
       "288   -3.087257\n",
       "289   -2.898749\n",
       "290   -3.145400\n",
       "291   -3.147115\n",
       "292   -2.800047\n",
       "293   -2.517928\n",
       "294   -2.929250\n",
       "295   -2.394407\n",
       "296   -2.664105\n",
       "297   -2.776308\n",
       "298   -2.593389\n",
       "299   -2.792384\n",
       "Name: y, dtype: float64"
      ]
     },
     "execution_count": 56,
     "metadata": {},
     "output_type": "execute_result"
    }
   ],
   "source": [
    "poly_l.predict(test_df) - test_df['y']"
   ]
  },
  {
   "cell_type": "code",
   "execution_count": 57,
   "metadata": {
    "collapsed": true
   },
   "outputs": [],
   "source": [
    "z = np.mean(((poly_l.predict(test_df) - test_df['y'])**2))"
   ]
  },
  {
   "cell_type": "code",
   "execution_count": 58,
   "metadata": {
    "collapsed": false
   },
   "outputs": [
    {
     "name": "stdout",
     "output_type": "stream",
     "text": [
      "2.55881638154\n"
     ]
    }
   ],
   "source": [
    "print(np.sqrt(z))"
   ]
  },
  {
   "cell_type": "code",
   "execution_count": null,
   "metadata": {
    "collapsed": true
   },
   "outputs": [],
   "source": []
  }
 ],
 "metadata": {
  "anaconda-cloud": {},
  "kernelspec": {
   "display_name": "Python [Root]",
   "language": "python",
   "name": "Python [Root]"
  },
  "language_info": {
   "codemirror_mode": {
    "name": "ipython",
    "version": 2
   },
   "file_extension": ".py",
   "mimetype": "text/x-python",
   "name": "python",
   "nbconvert_exporter": "python",
   "pygments_lexer": "ipython2",
   "version": "2.7.11"
  }
 },
 "nbformat": 4,
 "nbformat_minor": 0
}
