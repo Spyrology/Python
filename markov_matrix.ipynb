{
 "cells": [
  {
   "cell_type": "code",
   "execution_count": 55,
   "metadata": {
    "collapsed": false
   },
   "outputs": [
    {
     "name": "stdout",
     "output_type": "stream",
     "text": [
      "           bear   bull  stagnant\n",
      "bull      0.075  0.900     0.025\n",
      "bear      0.800  0.150     0.050\n",
      "stagnant  0.250  0.025     0.500\n"
     ]
    }
   ],
   "source": [
    "import pandas as pd\n",
    "df = pd.DataFrame({'bull': [.90, .15, .025], \n",
    "                   'bear': [.075, .80, .25],\n",
    "                   'stagnant': [.025, .05, .50]\n",
    "                  }, \n",
    "                  index=[\"bull\", \"bear\", \"stagnant\"])\n",
    "print(df)"
   ]
  },
  {
   "cell_type": "code",
   "execution_count": 56,
   "metadata": {
    "collapsed": false
   },
   "outputs": [
    {
     "name": "stdout",
     "output_type": "stream",
     "text": [
      "              bear      bull  stagnant\n",
      "bull      0.133750  0.821875  0.038750\n",
      "bear      0.663750  0.256250  0.068750\n",
      "stagnant  0.326875  0.072500  0.263125\n"
     ]
    }
   ],
   "source": [
    "print(df.dot(df**5))"
   ]
  },
  {
   "cell_type": "code",
   "execution_count": 3,
   "metadata": {
    "collapsed": false
   },
   "outputs": [
    {
     "name": "stdout",
     "output_type": "stream",
     "text": [
      "           bear   bull  stagnant\n",
      "bull      0.075  0.900     0.025\n",
      "bear      0.800  0.150     0.050\n",
      "stagnant  0.250  0.025     0.500\n"
     ]
    }
   ],
   "source": [
    "import pandas as pd\n",
    "df = pd.DataFrame({'bull': [.90, .15, .025], \n",
    "                   'bear': [.075, .80, .25],\n",
    "                   'stagnant': [.025, .05, .50]\n",
    "                  }, \n",
    "                  index=[\"bull\", \"bear\", \"stagnant\"])\n",
    "print(df)"
   ]
  },
  {
   "cell_type": "code",
   "execution_count": 17,
   "metadata": {
    "collapsed": false
   },
   "outputs": [
    {
     "name": "stdout",
     "output_type": "stream",
     "text": [
      "Transition matrix after 1 transitions:\n",
      "              bear      bull  stagnant\n",
      "bull      0.133750  0.821875  0.038750\n",
      "bear      0.663750  0.256250  0.068750\n",
      "stagnant  0.326875  0.072500  0.263125\n",
      "Transition matrix after 2 transitions:\n",
      "              bear      bull  stagnant\n",
      "bull      0.178328  0.760719  0.046609\n",
      "bear      0.567406  0.331906  0.073969\n",
      "stagnant  0.332719  0.120859  0.149719\n",
      "Transition matrix after 3 transitions:\n",
      "              bear      bull  stagnant\n",
      "bull      0.211369  0.712561  0.051239\n",
      "bear      0.497310  0.385676  0.073652\n",
      "stagnant  0.312669  0.162424  0.094517\n"
     ]
    }
   ],
   "source": [
    "n = 3 # number of iterations or dot products\n",
    "df2=df\n",
    "for i in range(n):\n",
    "    df2 = df2.dot(df)\n",
    "    print('Transition matrix after ' + str(i + 1) + ' transitions:')\n",
    "    print(df2)"
   ]
  },
  {
   "cell_type": "code",
   "execution_count": null,
   "metadata": {
    "collapsed": true
   },
   "outputs": [],
   "source": []
  }
 ],
 "metadata": {
  "kernelspec": {
   "display_name": "Python 2",
   "language": "python",
   "name": "python2"
  },
  "language_info": {
   "codemirror_mode": {
    "name": "ipython",
    "version": 2
   },
   "file_extension": ".py",
   "mimetype": "text/x-python",
   "name": "python",
   "nbconvert_exporter": "python",
   "pygments_lexer": "ipython2",
   "version": "2.7.11"
  }
 },
 "nbformat": 4,
 "nbformat_minor": 0
}
