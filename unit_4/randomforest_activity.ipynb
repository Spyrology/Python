{
 "cells": [
  {
   "cell_type": "code",
   "execution_count": 62,
   "metadata": {
    "collapsed": true
   },
   "outputs": [],
   "source": [
    "import pandas as pd\n",
    "import matplotlib.pyplot as plt\n",
    "import numpy as np\n",
    "from sklearn.ensemble import RandomForestClassifier\n",
    "from sklearn.cross_validation import KFold\n",
    "%matplotlib inline "
   ]
  },
  {
   "cell_type": "code",
   "execution_count": 19,
   "metadata": {
    "collapsed": true
   },
   "outputs": [],
   "source": [
    "train_activity = pd.read_csv('C:\\Users\\Spyro\\Desktop\\samtrain.csv')"
   ]
  },
  {
   "cell_type": "code",
   "execution_count": 20,
   "metadata": {
    "collapsed": false
   },
   "outputs": [],
   "source": [
    "train_activity.drop('Unnamed: 0', axis=1, inplace=True)"
   ]
  },
  {
   "cell_type": "code",
   "execution_count": 21,
   "metadata": {
    "collapsed": false
   },
   "outputs": [
    {
     "data": {
      "text/html": [
       "<div>\n",
       "<table border=\"1\" class=\"dataframe\">\n",
       "  <thead>\n",
       "    <tr style=\"text-align: right;\">\n",
       "      <th></th>\n",
       "      <th>tAccMean</th>\n",
       "      <th>tAccStd</th>\n",
       "      <th>tJerkMean</th>\n",
       "      <th>tJerkSD</th>\n",
       "      <th>tGyroMean</th>\n",
       "      <th>tGyroSD</th>\n",
       "      <th>tGyroJerkMean</th>\n",
       "      <th>tGyroJerkMagSD</th>\n",
       "      <th>fAccMean</th>\n",
       "      <th>fAccSD</th>\n",
       "      <th>...</th>\n",
       "      <th>fGyroJerkKurtosis</th>\n",
       "      <th>angleAccGravity</th>\n",
       "      <th>angleJerkGravity</th>\n",
       "      <th>angleGyroGravity</th>\n",
       "      <th>angleGyroJerkGravity</th>\n",
       "      <th>angleXGravity</th>\n",
       "      <th>angleYGravity</th>\n",
       "      <th>angleZGravity</th>\n",
       "      <th>subject</th>\n",
       "      <th>activity</th>\n",
       "    </tr>\n",
       "  </thead>\n",
       "  <tbody>\n",
       "    <tr>\n",
       "      <th>0</th>\n",
       "      <td>-0.959434</td>\n",
       "      <td>-0.950551</td>\n",
       "      <td>-0.993306</td>\n",
       "      <td>-0.994336</td>\n",
       "      <td>-0.968959</td>\n",
       "      <td>-0.964335</td>\n",
       "      <td>-0.994248</td>\n",
       "      <td>-0.991368</td>\n",
       "      <td>-0.952155</td>\n",
       "      <td>-0.956134</td>\n",
       "      <td>...</td>\n",
       "      <td>-0.710304</td>\n",
       "      <td>-0.112754</td>\n",
       "      <td>0.030400</td>\n",
       "      <td>-0.464761</td>\n",
       "      <td>-0.018446</td>\n",
       "      <td>-0.841247</td>\n",
       "      <td>0.179941</td>\n",
       "      <td>-0.058627</td>\n",
       "      <td>1</td>\n",
       "      <td>standing</td>\n",
       "    </tr>\n",
       "    <tr>\n",
       "      <th>1</th>\n",
       "      <td>-0.979289</td>\n",
       "      <td>-0.976057</td>\n",
       "      <td>-0.991253</td>\n",
       "      <td>-0.991694</td>\n",
       "      <td>-0.980683</td>\n",
       "      <td>-0.983754</td>\n",
       "      <td>-0.995123</td>\n",
       "      <td>-0.996102</td>\n",
       "      <td>-0.980857</td>\n",
       "      <td>-0.975866</td>\n",
       "      <td>...</td>\n",
       "      <td>-0.861499</td>\n",
       "      <td>0.053477</td>\n",
       "      <td>-0.007435</td>\n",
       "      <td>-0.732626</td>\n",
       "      <td>0.703511</td>\n",
       "      <td>-0.844788</td>\n",
       "      <td>0.180289</td>\n",
       "      <td>-0.054317</td>\n",
       "      <td>1</td>\n",
       "      <td>standing</td>\n",
       "    </tr>\n",
       "    <tr>\n",
       "      <th>2</th>\n",
       "      <td>-0.983703</td>\n",
       "      <td>-0.988020</td>\n",
       "      <td>-0.988531</td>\n",
       "      <td>-0.990397</td>\n",
       "      <td>-0.976317</td>\n",
       "      <td>-0.986051</td>\n",
       "      <td>-0.993403</td>\n",
       "      <td>-0.995091</td>\n",
       "      <td>-0.987795</td>\n",
       "      <td>-0.989015</td>\n",
       "      <td>...</td>\n",
       "      <td>-0.760104</td>\n",
       "      <td>-0.118559</td>\n",
       "      <td>0.177899</td>\n",
       "      <td>0.100699</td>\n",
       "      <td>0.808529</td>\n",
       "      <td>-0.848933</td>\n",
       "      <td>0.180637</td>\n",
       "      <td>-0.049118</td>\n",
       "      <td>1</td>\n",
       "      <td>standing</td>\n",
       "    </tr>\n",
       "    <tr>\n",
       "      <th>3</th>\n",
       "      <td>-0.986542</td>\n",
       "      <td>-0.986421</td>\n",
       "      <td>-0.993078</td>\n",
       "      <td>-0.993381</td>\n",
       "      <td>-0.982060</td>\n",
       "      <td>-0.987351</td>\n",
       "      <td>-0.995502</td>\n",
       "      <td>-0.995267</td>\n",
       "      <td>-0.987519</td>\n",
       "      <td>-0.986742</td>\n",
       "      <td>...</td>\n",
       "      <td>-0.482845</td>\n",
       "      <td>-0.036788</td>\n",
       "      <td>-0.012892</td>\n",
       "      <td>0.640011</td>\n",
       "      <td>-0.485366</td>\n",
       "      <td>-0.848649</td>\n",
       "      <td>0.181935</td>\n",
       "      <td>-0.047663</td>\n",
       "      <td>1</td>\n",
       "      <td>standing</td>\n",
       "    </tr>\n",
       "    <tr>\n",
       "      <th>4</th>\n",
       "      <td>-0.992827</td>\n",
       "      <td>-0.991275</td>\n",
       "      <td>-0.993480</td>\n",
       "      <td>-0.995854</td>\n",
       "      <td>-0.985204</td>\n",
       "      <td>-0.989063</td>\n",
       "      <td>-0.995808</td>\n",
       "      <td>-0.995258</td>\n",
       "      <td>-0.993591</td>\n",
       "      <td>-0.990063</td>\n",
       "      <td>...</td>\n",
       "      <td>-0.699205</td>\n",
       "      <td>0.123320</td>\n",
       "      <td>0.122542</td>\n",
       "      <td>0.693578</td>\n",
       "      <td>-0.615971</td>\n",
       "      <td>-0.847865</td>\n",
       "      <td>0.185151</td>\n",
       "      <td>-0.043892</td>\n",
       "      <td>1</td>\n",
       "      <td>standing</td>\n",
       "    </tr>\n",
       "  </tbody>\n",
       "</table>\n",
       "<p>5 rows × 37 columns</p>\n",
       "</div>"
      ],
      "text/plain": [
       "   tAccMean   tAccStd  tJerkMean   tJerkSD  tGyroMean   tGyroSD  \\\n",
       "0 -0.959434 -0.950551  -0.993306 -0.994336  -0.968959 -0.964335   \n",
       "1 -0.979289 -0.976057  -0.991253 -0.991694  -0.980683 -0.983754   \n",
       "2 -0.983703 -0.988020  -0.988531 -0.990397  -0.976317 -0.986051   \n",
       "3 -0.986542 -0.986421  -0.993078 -0.993381  -0.982060 -0.987351   \n",
       "4 -0.992827 -0.991275  -0.993480 -0.995854  -0.985204 -0.989063   \n",
       "\n",
       "   tGyroJerkMean  tGyroJerkMagSD  fAccMean    fAccSD    ...     \\\n",
       "0      -0.994248       -0.991368 -0.952155 -0.956134    ...      \n",
       "1      -0.995123       -0.996102 -0.980857 -0.975866    ...      \n",
       "2      -0.993403       -0.995091 -0.987795 -0.989015    ...      \n",
       "3      -0.995502       -0.995267 -0.987519 -0.986742    ...      \n",
       "4      -0.995808       -0.995258 -0.993591 -0.990063    ...      \n",
       "\n",
       "   fGyroJerkKurtosis  angleAccGravity  angleJerkGravity  angleGyroGravity  \\\n",
       "0          -0.710304        -0.112754          0.030400         -0.464761   \n",
       "1          -0.861499         0.053477         -0.007435         -0.732626   \n",
       "2          -0.760104        -0.118559          0.177899          0.100699   \n",
       "3          -0.482845        -0.036788         -0.012892          0.640011   \n",
       "4          -0.699205         0.123320          0.122542          0.693578   \n",
       "\n",
       "   angleGyroJerkGravity  angleXGravity  angleYGravity  angleZGravity  subject  \\\n",
       "0             -0.018446      -0.841247       0.179941      -0.058627        1   \n",
       "1              0.703511      -0.844788       0.180289      -0.054317        1   \n",
       "2              0.808529      -0.848933       0.180637      -0.049118        1   \n",
       "3             -0.485366      -0.848649       0.181935      -0.047663        1   \n",
       "4             -0.615971      -0.847865       0.185151      -0.043892        1   \n",
       "\n",
       "   activity  \n",
       "0  standing  \n",
       "1  standing  \n",
       "2  standing  \n",
       "3  standing  \n",
       "4  standing  \n",
       "\n",
       "[5 rows x 37 columns]"
      ]
     },
     "execution_count": 21,
     "metadata": {},
     "output_type": "execute_result"
    }
   ],
   "source": [
    "train_activity.head()"
   ]
  },
  {
   "cell_type": "code",
   "execution_count": 22,
   "metadata": {
    "collapsed": false
   },
   "outputs": [
    {
     "data": {
      "text/plain": [
       "Index([u'tAccMean', u'tAccStd', u'tJerkMean', u'tJerkSD', u'tGyroMean',\n",
       "       u'tGyroSD', u'tGyroJerkMean', u'tGyroJerkMagSD', u'fAccMean', u'fAccSD',\n",
       "       u'fAccMeanFreq', u'fJerkMean', u'fJerkSD', u'fJerkMeanFreq',\n",
       "       u'fGyroMean', u'fGyroSD', u'fGyroMeanFreq', u'fGyroJerkMean',\n",
       "       u'fGyroJerkSD', u'fGyroJerkMeanFreq', u'fAccSkewness', u'fJerkSkewness',\n",
       "       u'fGyroSkewness', u'fGyroJerkSkewness', u'fAccKurtosis',\n",
       "       u'fJerkKurtosis', u'fGyroKurtosis', u'fGyroJerkKurtosis',\n",
       "       u'angleAccGravity', u'angleJerkGravity', u'angleGyroGravity',\n",
       "       u'angleGyroJerkGravity', u'angleXGravity', u'angleYGravity',\n",
       "       u'angleZGravity', u'subject', u'activity'],\n",
       "      dtype='object')"
      ]
     },
     "execution_count": 22,
     "metadata": {},
     "output_type": "execute_result"
    }
   ],
   "source": [
    "train_activity.columns"
   ]
  },
  {
   "cell_type": "code",
   "execution_count": 23,
   "metadata": {
    "collapsed": true
   },
   "outputs": [],
   "source": [
    "column_names = list(train_activity.columns)"
   ]
  },
  {
   "cell_type": "code",
   "execution_count": 24,
   "metadata": {
    "collapsed": false
   },
   "outputs": [
    {
     "name": "stdout",
     "output_type": "stream",
     "text": [
      "['tAccMean', 'tAccStd', 'tJerkMean', 'tJerkSD', 'tGyroMean', 'tGyroSD', 'tGyroJerkMean', 'tGyroJerkMagSD', 'fAccMean', 'fAccSD', 'fAccMeanFreq', 'fJerkMean', 'fJerkSD', 'fJerkMeanFreq', 'fGyroMean', 'fGyroSD', 'fGyroMeanFreq', 'fGyroJerkMean', 'fGyroJerkSD', 'fGyroJerkMeanFreq', 'fAccSkewness', 'fJerkSkewness', 'fGyroSkewness', 'fGyroJerkSkewness', 'fAccKurtosis', 'fJerkKurtosis', 'fGyroKurtosis', 'fGyroJerkKurtosis', 'angleAccGravity', 'angleJerkGravity', 'angleGyroGravity', 'angleGyroJerkGravity', 'angleXGravity', 'angleYGravity', 'angleZGravity', 'subject', 'activity']\n"
     ]
    }
   ],
   "source": [
    "print(column_names)"
   ]
  },
  {
   "cell_type": "code",
   "execution_count": 25,
   "metadata": {
    "collapsed": true
   },
   "outputs": [],
   "source": [
    "column_names = column_names[0:36]"
   ]
  },
  {
   "cell_type": "code",
   "execution_count": 26,
   "metadata": {
    "collapsed": false
   },
   "outputs": [
    {
     "name": "stdout",
     "output_type": "stream",
     "text": [
      "['tAccMean', 'tAccStd', 'tJerkMean', 'tJerkSD', 'tGyroMean', 'tGyroSD', 'tGyroJerkMean', 'tGyroJerkMagSD', 'fAccMean', 'fAccSD', 'fAccMeanFreq', 'fJerkMean', 'fJerkSD', 'fJerkMeanFreq', 'fGyroMean', 'fGyroSD', 'fGyroMeanFreq', 'fGyroJerkMean', 'fGyroJerkSD', 'fGyroJerkMeanFreq', 'fAccSkewness', 'fJerkSkewness', 'fGyroSkewness', 'fGyroJerkSkewness', 'fAccKurtosis', 'fJerkKurtosis', 'fGyroKurtosis', 'fGyroJerkKurtosis', 'angleAccGravity', 'angleJerkGravity', 'angleGyroGravity', 'angleGyroJerkGravity', 'angleXGravity', 'angleYGravity', 'angleZGravity', 'subject']\n"
     ]
    }
   ],
   "source": [
    "print(column_names)"
   ]
  },
  {
   "cell_type": "code",
   "execution_count": 27,
   "metadata": {
    "collapsed": true
   },
   "outputs": [],
   "source": [
    "train_features = train_activity[column_names]"
   ]
  },
  {
   "cell_type": "code",
   "execution_count": 28,
   "metadata": {
    "collapsed": false
   },
   "outputs": [
    {
     "data": {
      "text/html": [
       "<div>\n",
       "<table border=\"1\" class=\"dataframe\">\n",
       "  <thead>\n",
       "    <tr style=\"text-align: right;\">\n",
       "      <th></th>\n",
       "      <th>tAccMean</th>\n",
       "      <th>tAccStd</th>\n",
       "      <th>tJerkMean</th>\n",
       "      <th>tJerkSD</th>\n",
       "      <th>tGyroMean</th>\n",
       "      <th>tGyroSD</th>\n",
       "      <th>tGyroJerkMean</th>\n",
       "      <th>tGyroJerkMagSD</th>\n",
       "      <th>fAccMean</th>\n",
       "      <th>fAccSD</th>\n",
       "      <th>...</th>\n",
       "      <th>fGyroKurtosis</th>\n",
       "      <th>fGyroJerkKurtosis</th>\n",
       "      <th>angleAccGravity</th>\n",
       "      <th>angleJerkGravity</th>\n",
       "      <th>angleGyroGravity</th>\n",
       "      <th>angleGyroJerkGravity</th>\n",
       "      <th>angleXGravity</th>\n",
       "      <th>angleYGravity</th>\n",
       "      <th>angleZGravity</th>\n",
       "      <th>subject</th>\n",
       "    </tr>\n",
       "  </thead>\n",
       "  <tbody>\n",
       "    <tr>\n",
       "      <th>0</th>\n",
       "      <td>-0.959434</td>\n",
       "      <td>-0.950551</td>\n",
       "      <td>-0.993306</td>\n",
       "      <td>-0.994336</td>\n",
       "      <td>-0.968959</td>\n",
       "      <td>-0.964335</td>\n",
       "      <td>-0.994248</td>\n",
       "      <td>-0.991368</td>\n",
       "      <td>-0.952155</td>\n",
       "      <td>-0.956134</td>\n",
       "      <td>...</td>\n",
       "      <td>-0.298676</td>\n",
       "      <td>-0.710304</td>\n",
       "      <td>-0.112754</td>\n",
       "      <td>0.030400</td>\n",
       "      <td>-0.464761</td>\n",
       "      <td>-0.018446</td>\n",
       "      <td>-0.841247</td>\n",
       "      <td>0.179941</td>\n",
       "      <td>-0.058627</td>\n",
       "      <td>1</td>\n",
       "    </tr>\n",
       "    <tr>\n",
       "      <th>1</th>\n",
       "      <td>-0.979289</td>\n",
       "      <td>-0.976057</td>\n",
       "      <td>-0.991253</td>\n",
       "      <td>-0.991694</td>\n",
       "      <td>-0.980683</td>\n",
       "      <td>-0.983754</td>\n",
       "      <td>-0.995123</td>\n",
       "      <td>-0.996102</td>\n",
       "      <td>-0.980857</td>\n",
       "      <td>-0.975866</td>\n",
       "      <td>...</td>\n",
       "      <td>-0.595051</td>\n",
       "      <td>-0.861499</td>\n",
       "      <td>0.053477</td>\n",
       "      <td>-0.007435</td>\n",
       "      <td>-0.732626</td>\n",
       "      <td>0.703511</td>\n",
       "      <td>-0.844788</td>\n",
       "      <td>0.180289</td>\n",
       "      <td>-0.054317</td>\n",
       "      <td>1</td>\n",
       "    </tr>\n",
       "    <tr>\n",
       "      <th>2</th>\n",
       "      <td>-0.983703</td>\n",
       "      <td>-0.988020</td>\n",
       "      <td>-0.988531</td>\n",
       "      <td>-0.990397</td>\n",
       "      <td>-0.976317</td>\n",
       "      <td>-0.986051</td>\n",
       "      <td>-0.993403</td>\n",
       "      <td>-0.995091</td>\n",
       "      <td>-0.987795</td>\n",
       "      <td>-0.989015</td>\n",
       "      <td>...</td>\n",
       "      <td>-0.390748</td>\n",
       "      <td>-0.760104</td>\n",
       "      <td>-0.118559</td>\n",
       "      <td>0.177899</td>\n",
       "      <td>0.100699</td>\n",
       "      <td>0.808529</td>\n",
       "      <td>-0.848933</td>\n",
       "      <td>0.180637</td>\n",
       "      <td>-0.049118</td>\n",
       "      <td>1</td>\n",
       "    </tr>\n",
       "    <tr>\n",
       "      <th>3</th>\n",
       "      <td>-0.986542</td>\n",
       "      <td>-0.986421</td>\n",
       "      <td>-0.993078</td>\n",
       "      <td>-0.993381</td>\n",
       "      <td>-0.982060</td>\n",
       "      <td>-0.987351</td>\n",
       "      <td>-0.995502</td>\n",
       "      <td>-0.995267</td>\n",
       "      <td>-0.987519</td>\n",
       "      <td>-0.986742</td>\n",
       "      <td>...</td>\n",
       "      <td>-0.117290</td>\n",
       "      <td>-0.482845</td>\n",
       "      <td>-0.036788</td>\n",
       "      <td>-0.012892</td>\n",
       "      <td>0.640011</td>\n",
       "      <td>-0.485366</td>\n",
       "      <td>-0.848649</td>\n",
       "      <td>0.181935</td>\n",
       "      <td>-0.047663</td>\n",
       "      <td>1</td>\n",
       "    </tr>\n",
       "    <tr>\n",
       "      <th>4</th>\n",
       "      <td>-0.992827</td>\n",
       "      <td>-0.991275</td>\n",
       "      <td>-0.993480</td>\n",
       "      <td>-0.995854</td>\n",
       "      <td>-0.985204</td>\n",
       "      <td>-0.989063</td>\n",
       "      <td>-0.995808</td>\n",
       "      <td>-0.995258</td>\n",
       "      <td>-0.993591</td>\n",
       "      <td>-0.990063</td>\n",
       "      <td>...</td>\n",
       "      <td>-0.351471</td>\n",
       "      <td>-0.699205</td>\n",
       "      <td>0.123320</td>\n",
       "      <td>0.122542</td>\n",
       "      <td>0.693578</td>\n",
       "      <td>-0.615971</td>\n",
       "      <td>-0.847865</td>\n",
       "      <td>0.185151</td>\n",
       "      <td>-0.043892</td>\n",
       "      <td>1</td>\n",
       "    </tr>\n",
       "  </tbody>\n",
       "</table>\n",
       "<p>5 rows × 36 columns</p>\n",
       "</div>"
      ],
      "text/plain": [
       "   tAccMean   tAccStd  tJerkMean   tJerkSD  tGyroMean   tGyroSD  \\\n",
       "0 -0.959434 -0.950551  -0.993306 -0.994336  -0.968959 -0.964335   \n",
       "1 -0.979289 -0.976057  -0.991253 -0.991694  -0.980683 -0.983754   \n",
       "2 -0.983703 -0.988020  -0.988531 -0.990397  -0.976317 -0.986051   \n",
       "3 -0.986542 -0.986421  -0.993078 -0.993381  -0.982060 -0.987351   \n",
       "4 -0.992827 -0.991275  -0.993480 -0.995854  -0.985204 -0.989063   \n",
       "\n",
       "   tGyroJerkMean  tGyroJerkMagSD  fAccMean    fAccSD   ...     fGyroKurtosis  \\\n",
       "0      -0.994248       -0.991368 -0.952155 -0.956134   ...         -0.298676   \n",
       "1      -0.995123       -0.996102 -0.980857 -0.975866   ...         -0.595051   \n",
       "2      -0.993403       -0.995091 -0.987795 -0.989015   ...         -0.390748   \n",
       "3      -0.995502       -0.995267 -0.987519 -0.986742   ...         -0.117290   \n",
       "4      -0.995808       -0.995258 -0.993591 -0.990063   ...         -0.351471   \n",
       "\n",
       "   fGyroJerkKurtosis  angleAccGravity  angleJerkGravity  angleGyroGravity  \\\n",
       "0          -0.710304        -0.112754          0.030400         -0.464761   \n",
       "1          -0.861499         0.053477         -0.007435         -0.732626   \n",
       "2          -0.760104        -0.118559          0.177899          0.100699   \n",
       "3          -0.482845        -0.036788         -0.012892          0.640011   \n",
       "4          -0.699205         0.123320          0.122542          0.693578   \n",
       "\n",
       "   angleGyroJerkGravity  angleXGravity  angleYGravity  angleZGravity  subject  \n",
       "0             -0.018446      -0.841247       0.179941      -0.058627        1  \n",
       "1              0.703511      -0.844788       0.180289      -0.054317        1  \n",
       "2              0.808529      -0.848933       0.180637      -0.049118        1  \n",
       "3             -0.485366      -0.848649       0.181935      -0.047663        1  \n",
       "4             -0.615971      -0.847865       0.185151      -0.043892        1  \n",
       "\n",
       "[5 rows x 36 columns]"
      ]
     },
     "execution_count": 28,
     "metadata": {},
     "output_type": "execute_result"
    }
   ],
   "source": [
    "train_features.head()"
   ]
  },
  {
   "cell_type": "code",
   "execution_count": 33,
   "metadata": {
    "collapsed": true
   },
   "outputs": [],
   "source": [
    "trainInput = train_features.as_matrix()"
   ]
  },
  {
   "cell_type": "code",
   "execution_count": 34,
   "metadata": {
    "collapsed": true
   },
   "outputs": [],
   "source": [
    "targets = np.array(list(train_activity['activity']))"
   ]
  },
  {
   "cell_type": "code",
   "execution_count": 31,
   "metadata": {
    "collapsed": false
   },
   "outputs": [
    {
     "name": "stdout",
     "output_type": "stream",
     "text": [
      "['standing' 'standing' 'standing' ..., 'walkup' 'walkup' 'walkup']\n"
     ]
    }
   ],
   "source": [
    "print(targets)"
   ]
  },
  {
   "cell_type": "code",
   "execution_count": 35,
   "metadata": {
    "collapsed": false
   },
   "outputs": [
    {
     "name": "stdout",
     "output_type": "stream",
     "text": [
      "[[-0.95943388 -0.9505515  -0.99330586 ...,  0.17994061 -0.05862692  1.        ]\n",
      " [-0.97928915 -0.97605707 -0.99125349 ...,  0.18028889 -0.05431672  1.        ]\n",
      " [-0.98370313 -0.98801962 -0.98853127 ...,  0.18063731 -0.04911782  1.        ]\n",
      " ..., \n",
      " [ 0.12493587  0.02490748 -0.07111665 ...,  0.36709423  0.07119813  6.        ]\n",
      " [ 0.02875579 -0.18849807 -0.13841649 ...,  0.37541279  0.069668    6.        ]\n",
      " [-0.03876885 -0.15394991 -0.24326344 ...,  0.35106945  0.04502535  6.        ]]\n"
     ]
    }
   ],
   "source": [
    "print(trainInput)"
   ]
  },
  {
   "cell_type": "code",
   "execution_count": 64,
   "metadata": {
    "collapsed": false
   },
   "outputs": [
    {
     "data": {
      "text/plain": [
       "RandomForestClassifier(bootstrap=True, class_weight=None, criterion='gini',\n",
       "            max_depth=10, max_features='auto', max_leaf_nodes=None,\n",
       "            min_samples_leaf=1, min_samples_split=2,\n",
       "            min_weight_fraction_leaf=0.0, n_estimators=500, n_jobs=4,\n",
       "            oob_score=False, random_state=None, verbose=0,\n",
       "            warm_start=False)"
      ]
     },
     "execution_count": 64,
     "metadata": {},
     "output_type": "execute_result"
    }
   ],
   "source": [
    "rf = RandomForestClassifier(n_estimators=500, max_depth=10, n_jobs=4) # initialize\n",
    "rf.fit(trainInput, targets) # fit the data to the algorithm"
   ]
  },
  {
   "cell_type": "code",
   "execution_count": 39,
   "metadata": {
    "collapsed": false
   },
   "outputs": [],
   "source": [
    "test_activity = pd.read_csv('C:\\Users\\Spyro\\Desktop\\samtest.csv')"
   ]
  },
  {
   "cell_type": "code",
   "execution_count": 40,
   "metadata": {
    "collapsed": true
   },
   "outputs": [],
   "source": [
    "column_names_test = list(test_activity.columns)"
   ]
  },
  {
   "cell_type": "code",
   "execution_count": 41,
   "metadata": {
    "collapsed": false
   },
   "outputs": [
    {
     "name": "stdout",
     "output_type": "stream",
     "text": [
      "['Unnamed: 0', 'tAccMean', 'tAccStd', 'tJerkMean', 'tJerkSD', 'tGyroMean', 'tGyroSD', 'tGyroJerkMean', 'tGyroJerkMagSD', 'fAccMean', 'fAccSD', 'fAccMeanFreq', 'fJerkMean', 'fJerkSD', 'fJerkMeanFreq', 'fGyroMean', 'fGyroSD', 'fGyroMeanFreq', 'fGyroJerkMean', 'fGyroJerkSD', 'fGyroJerkMeanFreq', 'fAccSkewness', 'fJerkSkewness', 'fGyroSkewness', 'fGyroJerkSkewness', 'fAccKurtosis', 'fJerkKurtosis', 'fGyroKurtosis', 'fGyroJerkKurtosis', 'angleAccGravity', 'angleJerkGravity', 'angleGyroGravity', 'angleGyroJerkGravity', 'angleXGravity', 'angleYGravity', 'angleZGravity', 'subject', 'activity']\n"
     ]
    }
   ],
   "source": [
    "print(column_names_test)"
   ]
  },
  {
   "cell_type": "code",
   "execution_count": 42,
   "metadata": {
    "collapsed": true
   },
   "outputs": [],
   "source": [
    "column_names_test = column_names_test[0:36]"
   ]
  },
  {
   "cell_type": "code",
   "execution_count": 44,
   "metadata": {
    "collapsed": false
   },
   "outputs": [],
   "source": [
    "test_features = test_activity[column_names_test]"
   ]
  },
  {
   "cell_type": "code",
   "execution_count": 45,
   "metadata": {
    "collapsed": true
   },
   "outputs": [],
   "source": [
    "testInput = test_features.as_matrix()"
   ]
  },
  {
   "cell_type": "code",
   "execution_count": 65,
   "metadata": {
    "collapsed": true
   },
   "outputs": [],
   "source": [
    "results = rf.predict(testInput)"
   ]
  },
  {
   "cell_type": "code",
   "execution_count": 50,
   "metadata": {
    "collapsed": false
   },
   "outputs": [],
   "source": [
    "targetFinal = np.array(test_activity['activity'].tolist())"
   ]
  },
  {
   "cell_type": "code",
   "execution_count": 51,
   "metadata": {
    "collapsed": false
   },
   "outputs": [
    {
     "name": "stdout",
     "output_type": "stream",
     "text": [
      "['laying' 'laying' 'laying' ..., 'laying' 'walkup' 'walkup']\n"
     ]
    }
   ],
   "source": [
    "print(results)"
   ]
  },
  {
   "cell_type": "code",
   "execution_count": 52,
   "metadata": {
    "collapsed": false
   },
   "outputs": [
    {
     "name": "stdout",
     "output_type": "stream",
     "text": [
      "['standing' 'standing' 'standing' ..., 'walkup' 'walkup' 'walkup']\n"
     ]
    }
   ],
   "source": [
    "print(targetFinal)"
   ]
  },
  {
   "cell_type": "code",
   "execution_count": 53,
   "metadata": {
    "collapsed": true
   },
   "outputs": [],
   "source": [
    "from sklearn.metrics import accuracy_score"
   ]
  },
  {
   "cell_type": "code",
   "execution_count": 66,
   "metadata": {
    "collapsed": false
   },
   "outputs": [
    {
     "data": {
      "text/plain": [
       "0.30437710437710436"
      ]
     },
     "execution_count": 66,
     "metadata": {},
     "output_type": "execute_result"
    }
   ],
   "source": [
    "accuracy_score(results, targetFinal)"
   ]
  },
  {
   "cell_type": "code",
   "execution_count": 57,
   "metadata": {
    "collapsed": true
   },
   "outputs": [],
   "source": [
    "from sklearn.metrics import confusion_matrix"
   ]
  },
  {
   "cell_type": "code",
   "execution_count": 60,
   "metadata": {
    "collapsed": false
   },
   "outputs": [
    {
     "data": {
      "text/plain": [
       "array([[162, 221, 271, 120, 129, 125],\n",
       "       [ 33,  43,  12,   0,   0,   0],\n",
       "       [ 95,   0,   0,   0,   0,   0],\n",
       "       [  0,   0,   0,   1,   0,   0],\n",
       "       [  0,   0,   0,   0,  53,   4],\n",
       "       [  3,   0,   0, 108,  18,  87]])"
      ]
     },
     "execution_count": 60,
     "metadata": {},
     "output_type": "execute_result"
    }
   ],
   "source": [
    "confusion_matrix(results, targetFinal)"
   ]
  },
  {
   "cell_type": "code",
   "execution_count": 67,
   "metadata": {
    "collapsed": false
   },
   "outputs": [
    {
     "data": {
      "image/png": "[encoded data removed]",
      "text/plain": [
       "<matplotlib.figure.Figure at 0xcbad198>"
      ]
     },
     "metadata": {},
     "output_type": "display_data"
    }
   ],
   "source": [
    "cm = confusion_matrix(results, targetFinal)\n",
    "fig, ax = plt.subplots()\n",
    "im = ax.matshow(cm)\n",
    "for (i, j), z in np.ndenumerate(cm):\n",
    "    ax.text(j, i, '{:0.1f}'.format(z), ha='center', va='center',\n",
    "            bbox=dict(boxstyle='round', facecolor='white', edgecolor='0.3'))\n",
    "    \n",
    "plt.title('Confusion matrix')\n",
    "fig.colorbar(im)\n",
    "plt.ylabel('True label')\n",
    "plt.xlabel('Predicted label')\n",
    "plt.show()"
   ]
  },
  {
   "cell_type": "code",
   "execution_count": null,
   "metadata": {
    "collapsed": true
   },
   "outputs": [],
   "source": []
  }
 ],
 "metadata": {
  "anaconda-cloud": {},
  "kernelspec": {
   "display_name": "Python [Root]",
   "language": "python",
   "name": "Python [Root]"
  },
  "language_info": {
   "codemirror_mode": {
    "name": "ipython",
    "version": 2
   },
   "file_extension": ".py",
   "mimetype": "text/x-python",
   "name": "python",
   "nbconvert_exporter": "python",
   "pygments_lexer": "ipython2",
   "version": "2.7.11"
  }
 },
 "nbformat": 4,
 "nbformat_minor": 0
}
