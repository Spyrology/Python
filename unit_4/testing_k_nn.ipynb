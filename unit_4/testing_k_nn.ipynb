{
 "cells": [
  {
   "cell_type": "code",
   "execution_count": 15,
   "metadata": {
    "collapsed": true
   },
   "outputs": [],
   "source": [
    "import pandas as pd\n",
    "import pylab as pl\n",
    "from sklearn.neighbors import KNeighborsClassifier\n",
    "import numpy as np\n",
    "%matplotlib inline "
   ]
  },
  {
   "cell_type": "code",
   "execution_count": 10,
   "metadata": {
    "collapsed": true
   },
   "outputs": [],
   "source": [
    "df = pd.read_csv(\"https://s3.amazonaws.com/demo-datasets/wine.csv\")"
   ]
  },
  {
   "cell_type": "code",
   "execution_count": 16,
   "metadata": {
    "collapsed": false
   },
   "outputs": [],
   "source": [
    "test_idx = np.random.uniform(0, 1, len(df)) <= 0.3\n",
    "train = df[test_idx==True]\n",
    "test = df[test_idx==False]"
   ]
  },
  {
   "cell_type": "code",
   "execution_count": 17,
   "metadata": {
    "collapsed": true
   },
   "outputs": [],
   "source": [
    "features = ['density', 'sulphates', 'residual_sugar']\n",
    "results = []"
   ]
  },
  {
   "cell_type": "code",
   "execution_count": 20,
   "metadata": {
    "collapsed": false
   },
   "outputs": [
    {
     "name": "stdout",
     "output_type": "stream",
     "text": [
      "Neighbors: 1, Accuracy: 0.756911\n",
      "Neighbors: 3, Accuracy: 0.764370\n",
      "Neighbors: 5, Accuracy: 0.765248\n",
      "Neighbors: 7, Accuracy: 0.778631\n",
      "Neighbors: 9, Accuracy: 0.781483\n",
      "Neighbors: 11, Accuracy: 0.785871\n",
      "Neighbors: 13, Accuracy: 0.792892\n",
      "Neighbors: 15, Accuracy: 0.797938\n",
      "Neighbors: 17, Accuracy: 0.799473\n",
      "Neighbors: 19, Accuracy: 0.796183\n",
      "Neighbors: 21, Accuracy: 0.798815\n",
      "Neighbors: 23, Accuracy: 0.799912\n",
      "Neighbors: 25, Accuracy: 0.801009\n",
      "Neighbors: 27, Accuracy: 0.800132\n",
      "Neighbors: 29, Accuracy: 0.804739\n",
      "Neighbors: 31, Accuracy: 0.803203\n",
      "Neighbors: 33, Accuracy: 0.804520\n",
      "Neighbors: 35, Accuracy: 0.805397\n",
      "Neighbors: 37, Accuracy: 0.805836\n",
      "Neighbors: 39, Accuracy: 0.804300\n",
      "Neighbors: 41, Accuracy: 0.806055\n",
      "Neighbors: 43, Accuracy: 0.806055\n",
      "Neighbors: 45, Accuracy: 0.806055\n",
      "Neighbors: 47, Accuracy: 0.806055\n",
      "Neighbors: 49, Accuracy: 0.806055\n"
     ]
    }
   ],
   "source": [
    "for n in range(1, 51, 2):\n",
    "    clf = KNeighborsClassifier(n_neighbors=n)\n",
    "    clf.fit(train[features], train['high_quality'])\n",
    "    preds = clf.predict(test[features])\n",
    "    accuracy = np.where(preds==test['high_quality'], 1, 0).sum() / float(len(test))\n",
    "    print \"Neighbors: %d, Accuracy: %3f\" % (n, accuracy)\n",
    "\n",
    "    results.append([n, accuracy])\n",
    "\n",
    "results = pd.DataFrame(results, columns=[\"n\", \"accuracy\"])"
   ]
  },
  {
   "cell_type": "code",
   "execution_count": 21,
   "metadata": {
    "collapsed": false
   },
   "outputs": [
    {
     "data": {
      "image/png": "[encoded data removed]",
      "text/plain": [
       "<matplotlib.figure.Figure at 0xc7b89e8>"
      ]
     },
     "metadata": {},
     "output_type": "display_data"
    }
   ],
   "source": [
    "pl.plot(results.n, results.accuracy)\n",
    "pl.title(\"Accuracy with Increasing K\")\n",
    "pl.show()"
   ]
  },
  {
   "cell_type": "code",
   "execution_count": null,
   "metadata": {
    "collapsed": true
   },
   "outputs": [],
   "source": []
  }
 ],
 "metadata": {
  "kernelspec": {
   "display_name": "Python [Root]",
   "language": "python",
   "name": "Python [Root]"
  },
  "language_info": {
   "codemirror_mode": {
    "name": "ipython",
    "version": 2
   },
   "file_extension": ".py",
   "mimetype": "text/x-python",
   "name": "python",
   "nbconvert_exporter": "python",
   "pygments_lexer": "ipython2",
   "version": "2.7.11"
  }
 },
 "nbformat": 4,
 "nbformat_minor": 0
}
